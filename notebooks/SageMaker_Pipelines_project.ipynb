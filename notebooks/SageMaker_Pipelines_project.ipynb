{
 "cells": [
  {
   "cell_type": "code",
   "execution_count": null,
   "id": "0502bdec-ed48-43e7-b5fc-a988a5264541",
   "metadata": {},
   "outputs": [],
   "source": [
    "import os\n",
    "print(os.getcwd())"
   ]
  },
  {
   "cell_type": "code",
   "execution_count": null,
   "id": "8ae5dc0a-eeda-4e67-8719-b4abd3df7a92",
   "metadata": {},
   "outputs": [],
   "source": [
    "import sagemaker\n",
    "print(sagemaker.__version__)"
   ]
  },
  {
   "cell_type": "code",
   "execution_count": null,
   "id": "fff251f3-7785-46a2-8f1a-cfdb4a721939",
   "metadata": {},
   "outputs": [],
   "source": [
    "!pip install --upgrade sagemaker"
   ]
  },
  {
   "cell_type": "code",
   "execution_count": null,
   "id": "722c78a6-060e-4e74-8b26-de66babc6e63",
   "metadata": {},
   "outputs": [],
   "source": [
    "sagemaker_role = \"arn:aws:iam::819481466570:role/service-role/AmazonSageMaker-ExecutionRole-20250722T173254\"\n",
    "print(sagemaker_role)"
   ]
  },
  {
   "cell_type": "code",
   "execution_count": 6,
   "id": "92556c43-29b1-4244-bb35-82be9d4b5723",
   "metadata": {
    "execution": {
     "iopub.execute_input": "2025-07-31T21:57:20.233763Z",
     "iopub.status.busy": "2025-07-31T21:57:20.233470Z",
     "iopub.status.idle": "2025-07-31T21:57:20.239305Z",
     "shell.execute_reply": "2025-07-31T21:57:20.238646Z",
     "shell.execute_reply.started": "2025-07-31T21:57:20.233740Z"
    }
   },
   "outputs": [],
   "source": [
    "import importlib.util\n",
    "import os\n",
    "import sys\n",
    "\n",
    "pipeline_path = os.path.abspath(\"pipelines/customerchurn/pipeline.py\")\n",
    "spec = importlib.util.spec_from_file_location(\"pipeline_module\", pipeline_path)\n",
    "pipeline_module = importlib.util.module_from_spec(spec)\n",
    "sys.modules[\"pipeline_module\"] = pipeline_module\n",
    "spec.loader.exec_module(pipeline_module)"
   ]
  },
  {
   "cell_type": "code",
   "execution_count": 7,
   "id": "05a31634-9e5c-421f-886f-3e66d14b324f",
   "metadata": {
    "execution": {
     "iopub.execute_input": "2025-07-31T21:57:22.970011Z",
     "iopub.status.busy": "2025-07-31T21:57:22.969026Z",
     "iopub.status.idle": "2025-07-31T21:57:24.801272Z",
     "shell.execute_reply": "2025-07-31T21:57:24.800618Z",
     "shell.execute_reply.started": "2025-07-31T21:57:22.969978Z"
    }
   },
   "outputs": [
    {
     "name": "stderr",
     "output_type": "stream",
     "text": [
      "INFO:sagemaker.image_uris:Ignoring unnecessary Python version: py3.\n",
      "INFO:sagemaker.image_uris:Ignoring unnecessary instance type: ml.m5.xlarge.\n",
      "INFO:sagemaker.image_uris:Ignoring unnecessary instance type: None.\n",
      "INFO:sagemaker.image_uris:Defaulting to only available Python version: py3\n",
      "INFO:sagemaker.image_uris:Ignoring unnecessary instance type: None.\n",
      "WARNING:sagemaker.workflow.utilities:Popping out 'TrainingJobName' from the pipeline definition by default since it will be overridden at pipeline execution time. Please utilize the PipelineDefinitionConfig to persist this field in the pipeline definition if desired.\n",
      "WARNING:sagemaker.workflow.utilities:Popping out 'ModelName' from the pipeline definition by default since it will be overridden at pipeline execution time. Please utilize the PipelineDefinitionConfig to persist this field in the pipeline definition if desired.\n",
      "WARNING:sagemaker.workflow.utilities:Popping out 'ProcessingJobName' from the pipeline definition by default since it will be overridden at pipeline execution time. Please utilize the PipelineDefinitionConfig to persist this field in the pipeline definition if desired.\n",
      "WARNING:sagemaker.estimator:No finished training job found associated with this estimator. Please make sure this estimator is only used for building workflow config\n",
      "WARNING:sagemaker.workflow._utils:Popping out 'CertifyForMarketplace' from the pipeline definition since it will be overridden in pipeline execution time.\n",
      "WARNING:sagemaker.workflow.utilities:Popping out 'ModelPackageName' from the pipeline definition by default since it will be overridden at pipeline execution time. Please utilize the PipelineDefinitionConfig to persist this field in the pipeline definition if desired.\n",
      "WARNING:sagemaker.workflow.utilities:Popping out 'TransformJobName' from the pipeline definition by default since it will be overridden at pipeline execution time. Please utilize the PipelineDefinitionConfig to persist this field in the pipeline definition if desired.\n",
      "WARNING:sagemaker.workflow.utilities:Popping out 'ProcessingJobName' from the pipeline definition by default since it will be overridden at pipeline execution time. Please utilize the PipelineDefinitionConfig to persist this field in the pipeline definition if desired.\n",
      "WARNING:sagemaker.workflow.utilities:Popping out 'TrainingJobName' from the pipeline definition by default since it will be overridden at pipeline execution time. Please utilize the PipelineDefinitionConfig to persist this field in the pipeline definition if desired.\n",
      "WARNING:sagemaker.workflow.utilities:Popping out 'ModelName' from the pipeline definition by default since it will be overridden at pipeline execution time. Please utilize the PipelineDefinitionConfig to persist this field in the pipeline definition if desired.\n",
      "WARNING:sagemaker.workflow.utilities:Popping out 'ProcessingJobName' from the pipeline definition by default since it will be overridden at pipeline execution time. Please utilize the PipelineDefinitionConfig to persist this field in the pipeline definition if desired.\n",
      "WARNING:sagemaker.estimator:No finished training job found associated with this estimator. Please make sure this estimator is only used for building workflow config\n",
      "WARNING:sagemaker.workflow._utils:Popping out 'CertifyForMarketplace' from the pipeline definition since it will be overridden in pipeline execution time.\n",
      "WARNING:sagemaker.workflow.utilities:Popping out 'ModelPackageName' from the pipeline definition by default since it will be overridden at pipeline execution time. Please utilize the PipelineDefinitionConfig to persist this field in the pipeline definition if desired.\n",
      "WARNING:sagemaker.workflow.utilities:Popping out 'TransformJobName' from the pipeline definition by default since it will be overridden at pipeline execution time. Please utilize the PipelineDefinitionConfig to persist this field in the pipeline definition if desired.\n",
      "WARNING:sagemaker.workflow.utilities:Popping out 'ProcessingJobName' from the pipeline definition by default since it will be overridden at pipeline execution time. Please utilize the PipelineDefinitionConfig to persist this field in the pipeline definition if desired.\n"
     ]
    },
    {
     "data": {
      "text/plain": [
       "_PipelineExecution(arn='arn:aws:sagemaker:us-east-2:819481466570:pipeline/ChurnPredictionPipeline/execution/ewgqgb8sr4g0', sagemaker_session=<sagemaker.workflow.pipeline_context.PipelineSession object at 0x7f122cc7cf50>)"
      ]
     },
     "execution_count": 7,
     "metadata": {},
     "output_type": "execute_result"
    }
   ],
   "source": [
    "from sagemaker.workflow.pipeline_context import PipelineSession\n",
    "from sagemaker import get_execution_role\n",
    "import sagemaker\n",
    "\n",
    "# Initialize role, session, and bucket\n",
    "role = get_execution_role()\n",
    "pipeline_session = PipelineSession()\n",
    "default_bucket = sagemaker.Session().default_bucket()\n",
    "\n",
    "# Import pipeline definition \n",
    "from pipelines.customerchurn.pipeline import get_pipeline\n",
    "\n",
    "pipeline = get_pipeline(role, default_bucket)\n",
    "pipeline.upsert(role_arn=role)\n",
    "pipeline.start()"
   ]
  },
  {
   "cell_type": "code",
   "execution_count": null,
   "id": "9bd71d5a-3f31-4b15-ab9d-bf1ca9487e49",
   "metadata": {},
   "outputs": [],
   "source": []
  }
 ],
 "metadata": {
  "kernelspec": {
   "display_name": "Python 3 (ipykernel)",
   "language": "python",
   "name": "python3"
  },
  "language_info": {
   "codemirror_mode": {
    "name": "ipython",
    "version": 3
   },
   "file_extension": ".py",
   "mimetype": "text/x-python",
   "name": "python",
   "nbconvert_exporter": "python",
   "pygments_lexer": "ipython3",
   "version": "3.12.9"
  }
 },
 "nbformat": 4,
 "nbformat_minor": 5
}
